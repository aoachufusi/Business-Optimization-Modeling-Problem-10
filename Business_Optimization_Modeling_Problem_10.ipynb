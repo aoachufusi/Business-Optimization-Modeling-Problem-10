{
  "nbformat": 4,
  "nbformat_minor": 0,
  "metadata": {
    "colab": {
      "provenance": []
    },
    "kernelspec": {
      "name": "python3",
      "display_name": "Python 3"
    },
    "language_info": {
      "name": "python"
    }
  },
  "cells": [
    {
      "cell_type": "code",
      "execution_count": null,
      "metadata": {
        "colab": {
          "base_uri": "https://localhost:8080/"
        },
        "id": "p9mFOH4DwpRW",
        "outputId": "83363663-97a9-44d7-ba1d-72ead665d7d3"
      },
      "outputs": [
        {
          "output_type": "stream",
          "name": "stdout",
          "text": [
            "        message: Optimization terminated successfully. (HiGHS Status 7: Optimal)\n",
            "        success: True\n",
            "         status: 0\n",
            "            fun: -160000.0\n",
            "              x: [ 8.000e+05  4.000e+05]\n",
            "            nit: 0\n",
            "          lower:  residual: [ 8.000e+05  4.000e+05]\n",
            "                 marginals: [ 0.000e+00  0.000e+00]\n",
            "          upper:  residual: [ 2.000e+05        inf]\n",
            "                 marginals: [ 0.000e+00  0.000e+00]\n",
            "          eqlin:  residual: []\n",
            "                 marginals: []\n",
            "        ineqlin:  residual: [ 0.000e+00  0.000e+00]\n",
            "                 marginals: [-1.100e+00 -4.000e-01]\n",
            " mip_node_count: 0\n",
            " mip_dual_bound: 0.0\n",
            "        mip_gap: 0.0\n"
          ]
        }
      ],
      "source": [
        "from scipy.optimize import linprog\n",
        "from numpy import inf, dot\n",
        "\n",
        "# objective coefficient vector\n",
        "c = [0.15, -0.70]\n",
        "\n",
        "# inequality constraints in the form A_ub x <= b_ub ('<=' means 'less than or equal to' here)\n",
        "A_ub = [[-0.5, 1], [1, -1]]  # It's called A_ub because we are assuming these are all upper bound constraints (any lower bound constraints should be multiplied by -1)\n",
        "b_ub = [0, 400000]\n",
        "\n",
        "# bounds on variables\n",
        "bounds = [[0, 1000000], [0, inf]]\n",
        "\n",
        "print(linprog(c, A_ub=A_ub, b_ub=b_ub, bounds=bounds))\n"
      ]
    },
    {
      "cell_type": "code",
      "source": [],
      "metadata": {
        "id": "leT3vDRmxDHQ"
      },
      "execution_count": null,
      "outputs": []
    }
  ]
}